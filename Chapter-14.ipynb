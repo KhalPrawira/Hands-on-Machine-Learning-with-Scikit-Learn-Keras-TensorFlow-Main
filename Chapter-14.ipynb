{
 "cells": [
  {
   "cell_type": "markdown",
   "id": "f58a4acc",
   "metadata": {},
   "source": [
    "# Bab 14: Deep Computer Vision Menggunakan Convolutional Neural Networks (CNN)\n",
    "\n",
    "### 1. Pendahuluan\n",
    "\n",
    "Bab 14 beralih ke salah satu aplikasi *Deep Learning* yang paling sukses: **Computer Vision**. Selama dekade terakhir, *Deep Learning* telah merevolusi bidang ini, terutama berkat munculnya **Convolutional Neural Networks (CNNs)**. CNNs adalah arsitektur Jaringan Saraf Tiruan khusus yang dirancang untuk memproses data berstruktur *grid* seperti gambar.\n",
    "\n",
    "Bab ini akan membahas:\n",
    "* Arsitektur dasar CNN, termasuk lapisan konvolusional dan lapisan *pooling*.\n",
    "* Cara membangun CNN untuk tugas klasifikasi gambar.\n",
    "* Arsitektur CNN yang populer dan berkinerja tinggi.\n",
    "* Teknik *transfer learning* untuk Computer Vision.\n",
    "* Teknik *computer vision* lainnya seperti lokalisasi objek, deteksi objek, dan segmentasi.\n",
    "\n",
    "---\n",
    "\n",
    "### 2. Arsitektur Lapisan Konvolusional\n",
    "\n",
    "Lapisan konvolusional adalah blok bangunan inti dari CNN. Lapisan ini menggunakan filter kecil (juga disebut *kernels*) yang \"bergulir\" di atas gambar input untuk menghasilkan *feature map*. Setiap neuron di *feature map* hanya terhubung ke sejumlah kecil neuron di lapisan sebelumnya, yang dikenal sebagai *receptive field*.\n",
    "\n",
    "* **Padding:** Menambahkan nol di sekitar batas input untuk mempertahankan dimensi spasial. `padding=\"same\"` akan menghasilkan output dengan ukuran yang sama dengan input. `padding=\"valid\"` berarti tanpa padding.\n",
    "* **Stride:** Jarak pergeseran filter di setiap langkah. Stride yang lebih besar akan menghasilkan *feature map* yang lebih kecil.\n",
    "\n",
    "---\n",
    "\n",
    "### 3. Lapisan Pooling\n",
    "\n",
    "Lapisan *pooling* bertujuan untuk melakukan *subsampling* (mengecilkan ukuran) representasi input, yang membantu mengurangi beban komputasi, memori, dan jumlah parameter, sehingga mengurangi risiko *overfitting*.\n",
    "* **Max Pooling:** Mengambil nilai maksimum dari setiap *region* input. Ini adalah jenis *pooling* yang paling umum.\n",
    "* **Average Pooling:** Mengambil nilai rata-rata dari setiap *region*.\n",
    "\n",
    "---\n",
    "\n",
    "### 4. Arsitektur CNN\n",
    "\n",
    "Arsitektur CNN yang umum biasanya terdiri dari tumpukan beberapa lapisan konvolusional, diikuti oleh fungsi aktivasi (misalnya, ReLU), lalu lapisan *pooling*, dan diulang beberapa kali. Menjelang akhir jaringan, beberapa lapisan *fully connected* (Dense) ditambahkan, dengan lapisan output akhir yang menggunakan fungsi aktivasi seperti softmax untuk klasifikasi.\n",
    "\n",
    "#### Implementasi CNN dengan Keras untuk Klasifikasi Gambar\n",
    "\n",
    "Berikut adalah contoh pembangunan CNN sederhana menggunakan Keras untuk dataset Fashion MNIST.\n"
   ]
  },
  {
   "cell_type": "code",
   "execution_count": 1,
   "id": "2b831c79",
   "metadata": {},
   "outputs": [
    {
     "name": "stderr",
     "output_type": "stream",
     "text": [
      "c:\\Users\\Khalif Prawira\\AppData\\Local\\Programs\\Orange\\Lib\\site-packages\\keras\\src\\layers\\convolutional\\base_conv.py:113: UserWarning: Do not pass an `input_shape`/`input_dim` argument to a layer. When using Sequential models, prefer using an `Input(shape)` object as the first layer in the model instead.\n",
      "  super().__init__(activity_regularizer=activity_regularizer, **kwargs)\n"
     ]
    }
   ],
   "source": [
    "import tensorflow as tf\n",
    "from tensorflow import keras\n",
    "import numpy as np\n",
    "\n",
    "# Memuat dataset Fashion MNIST\n",
    "fashion_mnist = keras.datasets.fashion_mnist\n",
    "(X_train_full, y_train_full), (X_test, y_test) = fashion_mnist.load_data()\n",
    "\n",
    "# Normalisasi dan penyesuaian bentuk data\n",
    "X_train_full = np.expand_dims(X_train_full, -1).astype(np.float32) / 255\n",
    "X_test = np.expand_dims(X_test, -1).astype(np.float32) / 255\n",
    "X_train, X_valid = X_train_full[:-5000], X_train_full[-5000:]\n",
    "y_train, y_valid = y_train_full[:-5000], y_train_full[-5000:]\n",
    "\n",
    "# Membangun model CNN sederhana\n",
    "model = keras.models.Sequential([\n",
    "    keras.layers.Conv2D(64, 7, activation=\"relu\", padding=\"same\",\n",
    "                        input_shape=[28, 28, 1]),\n",
    "    keras.layers.MaxPooling2D(2),\n",
    "    keras.layers.Conv2D(128, 3, activation=\"relu\", padding=\"same\"),\n",
    "    keras.layers.Conv2D(128, 3, activation=\"relu\", padding=\"same\"),\n",
    "    keras.layers.MaxPooling2D(2),\n",
    "    keras.layers.Conv2D(256, 3, activation=\"relu\", padding=\"same\"),\n",
    "    keras.layers.Conv2D(256, 3, activation=\"relu\", padding=\"same\"),\n",
    "    keras.layers.MaxPooling2D(2),\n",
    "    keras.layers.Flatten(),\n",
    "    keras.layers.Dense(128, activation=\"relu\"),\n",
    "    keras.layers.Dropout(0.5),\n",
    "    keras.layers.Dense(64, activation=\"relu\"),\n",
    "    keras.layers.Dropout(0.5),\n",
    "    keras.layers.Dense(10, activation=\"softmax\")\n",
    "])\n",
    "\n",
    "# Compile dan latih model\n",
    "model.compile(loss=\"sparse_categorical_crossentropy\",\n",
    "              optimizer=\"nadam\",\n",
    "              metrics=[\"accuracy\"])\n",
    "# history = model.fit(X_train, y_train, epochs=10, validation_data=(X_valid, y_valid))\n",
    "# score = model.evaluate(X_test, y_test)"
   ]
  },
  {
   "cell_type": "markdown",
   "id": "c98f66ce",
   "metadata": {},
   "source": [
    "---\n",
    "\n",
    "### 5. Menggunakan Model CNN Pre-trained (Transfer Learning)\n",
    "Untuk sebagian besar masalah computer vision, lebih baik menggunakan model CNN yang sudah dilatih sebelumnya (pre-trained) pada dataset besar seperti ImageNet. Teknik ini disebut Transfer Learning.\n",
    "\n",
    "Prosesnya:\n",
    "\n",
    "1. Bekukan lapisan-lapisan awal (Freeze Layers): Bobot dari lapisan-lapisan konvolusional awal dari model pre-trained dibekukan (`layer.trainable = False`) karena mereka telah belajar mendeteksi fitur-fitur umum.\n",
    "2. Ganti atau Tambah Lapisan Atas: Ganti lapisan output asli dengan lapisan baru yang sesuai dengan tugas Anda.\n",
    "3. Latih Model: Latih model pada dataset baru Anda. Awalnya, hanya bobot dari lapisan baru yang akan diperbarui.\n",
    "4. (Opsional) Fine-Tuning: Setelah beberapa epoch, Anda dapat \"mencairkan\" (unfreeze) beberapa lapisan atas dari model pre-trained dan melatih seluruh jaringan dengan learning rate yang sangat kecil."
   ]
  },
  {
   "cell_type": "code",
   "execution_count": 2,
   "id": "957f3e47",
   "metadata": {},
   "outputs": [
    {
     "name": "stderr",
     "output_type": "stream",
     "text": [
      "c:\\Users\\Khalif Prawira\\AppData\\Local\\Programs\\Orange\\Lib\\site-packages\\keras\\src\\optimizers\\base_optimizer.py:86: UserWarning: Argument `decay` is no longer supported and will be ignored.\n",
      "  warnings.warn(\n"
     ]
    }
   ],
   "source": [
    "# Contoh Transfer Learning dengan Xception\n",
    "# (Memerlukan preprocessing gambar agar sesuai dengan input Xception)\n",
    "base_model = keras.applications.xception.Xception(weights=\"imagenet\",\n",
    "                                                  include_top=False)\n",
    "avg = keras.layers.GlobalAveragePooling2D()(base_model.output)\n",
    "output = keras.layers.Dense(10, activation=\"softmax\")(avg) # Asumsikan 10 kelas\n",
    "model_transfer = keras.Model(inputs=base_model.input, outputs=output)\n",
    "\n",
    "# Bekukan lapisan-lapisan dari base model\n",
    "for layer in base_model.layers:\n",
    "    layer.trainable = False\n",
    "\n",
    "# Compile dan latih\n",
    "optimizer = keras.optimizers.SGD(learning_rate=0.2, momentum=0.9, decay=0.01)\n",
    "model_transfer.compile(loss=\"sparse_categorical_crossentropy\", optimizer=optimizer,\n",
    "                       metrics=[\"accuracy\"])\n",
    "# history = model_transfer.fit(...)"
   ]
  },
  {
   "cell_type": "markdown",
   "id": "8a9f98cd",
   "metadata": {},
   "source": [
    "\n",
    "\n",
    "### 6. Tugas Computer Vision Lainnya\n",
    "Selain klasifikasi, CNN juga sangat kuat untuk tugas-tugas berikut:\n",
    "\n",
    "### a. Klasifikasi dan Lokalisasi Objek\n",
    "Tugas ini tidak hanya mengklasifikasikan objek dalam gambar tetapi juga memprediksi lokasinya melalui sebuah bounding box (kotak pembatas). Ini dilakukan dengan menambahkan output head kedua pada model CNN:\n",
    "\n",
    "* **Head Klasifikasi**: Memprediksi kelas objek (menggunakan loss `categorical_crossentropy`).\n",
    "* **Head Regresi**: Memprediksi 4 angka yang merepresentasikan koordinat dan ukuran bounding box (menggunakan loss `mean_squared_error`).\n",
    "\n",
    "### b. Deteksi Objek (Object Detection)\n",
    "Deteksi objek adalah tugas yang lebih menantang untuk mendeteksi dan melokalisasi banyak objek dalam satu gambar. Beberapa pendekatan populer:\n",
    "\n",
    "* **Fully Convolutional Networks (FCN)**: Menggunakan CNN untuk menghasilkan feature map padat, di mana setiap sel di peta tersebut memprediksi apakah ada objek di sana beserta bounding box-nya.\n",
    "* **You Only Look Once (YOLO)**: Model yang sangat cepat dan populer yang memprediksi semua bounding box dalam satu kali jalan (single pass).\n",
    "* **Region-based CNN (R-CNN)** dan **turunannya (Fast R-CNN, Faster R-CNN)**: Mengusulkan beberapa region potensial di gambar lalu menjalankan pengklasifikasi pada setiap region.\n",
    "\n",
    "### c. Segmentasi Semantik dan Instance\n",
    "* **Segmentasi Semantik**: Mengklasifikasikan setiap piksel dalam gambar ke dalam kelas tertentu (misalnya, jalan, mobil, pejalan kaki, bangunan). Arsitektur yang umum digunakan adalah U-Net, yang memiliki jalur downsampling (encoder) dan upsampling (decoder).\n",
    "* **Segmentasi Instance**: Mirip dengan segmentasi semantik, tetapi juga membedakan antar instance dari kelas yang sama (misalnya, mengidentifikasi setiap mobil secara terpisah)."
   ]
  }
 ],
 "metadata": {
  "kernelspec": {
   "display_name": "Python 3",
   "language": "python",
   "name": "python3"
  },
  "language_info": {
   "codemirror_mode": {
    "name": "ipython",
    "version": 3
   },
   "file_extension": ".py",
   "mimetype": "text/x-python",
   "name": "python",
   "nbconvert_exporter": "python",
   "pygments_lexer": "ipython3",
   "version": "3.11.8"
  }
 },
 "nbformat": 4,
 "nbformat_minor": 5
}
